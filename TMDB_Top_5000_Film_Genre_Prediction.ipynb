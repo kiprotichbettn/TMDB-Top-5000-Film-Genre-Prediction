{
  "cells": [
    {
      "cell_type": "code",
      "execution_count": null,
      "metadata": {
        "id": "C-BUJZg272mK"
      },
      "outputs": [],
      "source": [
        "# Import Libraries\n",
        "# -------------------------------\n",
        "import pandas as pd\n",
        "import numpy as np\n",
        "import matplotlib.pyplot as plt\n",
        "import seaborn as sns\n",
        "import math\n",
        "\n",
        "from sklearn.preprocessing import LabelEncoder, MinMaxScaler\n",
        "from sklearn.metrics import accuracy_score, mean_squared_error, mean_absolute_error, classification_report\n",
        "from sklearn.linear_model import LogisticRegression\n",
        "from sklearn.model_selection import train_test_split"
      ]
    },
    {
      "cell_type": "code",
      "execution_count": null,
      "metadata": {
        "colab": {
          "base_uri": "https://localhost:8080/"
        },
        "id": "PwLKFrad9OYB",
        "outputId": "6c4432c4-a07f-491a-c187-6b22c57be1c0"
      },
      "outputs": [
        {
          "name": "stdout",
          "output_type": "stream",
          "text": [
            "Drive already mounted at /content/drive; to attempt to forcibly remount, call drive.mount(\"/content/drive\", force_remount=True).\n"
          ]
        }
      ],
      "source": [
        "from google.colab import drive\n",
        "drive.mount('/content/drive')"
      ]
    },
    {
      "cell_type": "code",
      "execution_count": null,
      "metadata": {
        "colab": {
          "base_uri": "https://localhost:8080/"
        },
        "id": "Ew4GtDbQ9Q6k",
        "outputId": "06233053-534a-49f6-d355-8df808f51fcc"
      },
      "outputs": [
        {
          "name": "stdout",
          "output_type": "stream",
          "text": [
            "MyDrive\n"
          ]
        }
      ],
      "source": [
        "!ls /content/drive"
      ]
    },
    {
      "cell_type": "code",
      "execution_count": null,
      "metadata": {
        "colab": {
          "base_uri": "https://localhost:8080/",
          "height": 224
        },
        "id": "OX0EYLNe-IaS",
        "outputId": "ef6a9aa8-787f-49c8-e08c-074ac9340dc2"
      },
      "outputs": [
        {
          "data": {
            "application/vnd.google.colaboratory.intrinsic+json": {
              "summary": "{\n  \"name\": \"df\",\n  \"rows\": 4803,\n  \"fields\": [\n    {\n      \"column\": \"genres_1\",\n      \"properties\": {\n        \"dtype\": \"category\",\n        \"num_unique_values\": 20,\n        \"samples\": [\n          \"Action\",\n          \"Music\",\n          \"Horror\"\n        ],\n        \"semantic_type\": \"\",\n        \"description\": \"\"\n      }\n    },\n    {\n      \"column\": \"genres_2\",\n      \"properties\": {\n        \"dtype\": \"category\",\n        \"num_unique_values\": 19,\n        \"samples\": [\n          \"Adventure\",\n          \"Comedy\",\n          \"History\"\n        ],\n        \"semantic_type\": \"\",\n        \"description\": \"\"\n      }\n    },\n    {\n      \"column\": \"budget\",\n      \"properties\": {\n        \"dtype\": \"number\",\n        \"std\": 40722391,\n        \"min\": 0,\n        \"max\": 380000000,\n        \"num_unique_values\": 436,\n        \"samples\": [\n          439000,\n          68000000,\n          700000\n        ],\n        \"semantic_type\": \"\",\n        \"description\": \"\"\n      }\n    },\n    {\n      \"column\": \"keyword_1\",\n      \"properties\": {\n        \"dtype\": \"category\",\n        \"num_unique_values\": 1351,\n        \"samples\": [\n          \"loyalty\",\n          \"lossofparents\",\n          \"budapest\"\n        ],\n        \"semantic_type\": \"\",\n        \"description\": \"\"\n      }\n    },\n    {\n      \"column\": \"keyword_2\",\n      \"properties\": {\n        \"dtype\": \"category\",\n        \"num_unique_values\": 1833,\n        \"samples\": [\n          \"deaf-mute\",\n          \"grandfathergrandsonrelationship\",\n          \"terror\"\n        ],\n        \"semantic_type\": \"\",\n        \"description\": \"\"\n      }\n    },\n    {\n      \"column\": \"keyword_3\",\n      \"properties\": {\n        \"dtype\": \"category\",\n        \"num_unique_values\": 2096,\n        \"samples\": [\n          \"basedoncomicbook\",\n          \"detroit\",\n          \"alienspacecraft\"\n        ],\n        \"semantic_type\": \"\",\n        \"description\": \"\"\n      }\n    },\n    {\n      \"column\": \"keyword_4\",\n      \"properties\": {\n        \"dtype\": \"category\",\n        \"num_unique_values\": 2084,\n        \"samples\": [\n          \"unsimulatedsex\",\n          \"louisiana\",\n          \"basedonthebible\"\n        ],\n        \"semantic_type\": \"\",\n        \"description\": \"\"\n      }\n    },\n    {\n      \"column\": \"keyword_5\",\n      \"properties\": {\n        \"dtype\": \"category\",\n        \"num_unique_values\": 2013,\n        \"samples\": [\n          \"viennaaustria\",\n          \"cryogenics\",\n          \"parents-in-law\"\n        ],\n        \"semantic_type\": \"\",\n        \"description\": \"\"\n      }\n    },\n    {\n      \"column\": \"keyword_6\",\n      \"properties\": {\n        \"dtype\": \"category\",\n        \"num_unique_values\": 1788,\n        \"samples\": [\n          \"depression\",\n          \"motherrole\",\n          \"dinosaur\"\n        ],\n        \"semantic_type\": \"\",\n        \"description\": \"\"\n      }\n    },\n    {\n      \"column\": \"popularity\",\n      \"properties\": {\n        \"dtype\": \"number\",\n        \"std\": 31.816649749537806,\n        \"min\": 0.0,\n        \"max\": 875.581305,\n        \"num_unique_values\": 4802,\n        \"samples\": [\n          13.267631,\n          0.010909,\n          5.842299\n        ],\n        \"semantic_type\": \"\",\n        \"description\": \"\"\n      }\n    },\n    {\n      \"column\": \"production_companies\",\n      \"properties\": {\n        \"dtype\": \"category\",\n        \"num_unique_values\": 1313,\n        \"samples\": [\n          \"The Zanuck Company\",\n          \"Q Productions\",\n          \"Eclectic pictures\"\n        ],\n        \"semantic_type\": \"\",\n        \"description\": \"\"\n      }\n    },\n    {\n      \"column\": \"revenue\",\n      \"properties\": {\n        \"dtype\": \"number\",\n        \"std\": 162857100,\n        \"min\": 0,\n        \"max\": 2787965087,\n        \"num_unique_values\": 3297,\n        \"samples\": [\n          11833696,\n          10462500,\n          17807569\n        ],\n        \"semantic_type\": \"\",\n        \"description\": \"\"\n      }\n    },\n    {\n      \"column\": \"runtime\",\n      \"properties\": {\n        \"dtype\": \"number\",\n        \"std\": 22.611934588844207,\n        \"min\": 0.0,\n        \"max\": 338.0,\n        \"num_unique_values\": 156,\n        \"samples\": [\n          74.0,\n          85.0,\n          170.0\n        ],\n        \"semantic_type\": \"\",\n        \"description\": \"\"\n      }\n    },\n    {\n      \"column\": \"title\",\n      \"properties\": {\n        \"dtype\": \"string\",\n        \"num_unique_values\": 4800,\n        \"samples\": [\n          \"I Spy\",\n          \"Who's Your Caddy?\",\n          \"Sleepover\"\n        ],\n        \"semantic_type\": \"\",\n        \"description\": \"\"\n      }\n    },\n    {\n      \"column\": \"vote_average\",\n      \"properties\": {\n        \"dtype\": \"number\",\n        \"std\": 1.1946121628478925,\n        \"min\": 0.0,\n        \"max\": 10.0,\n        \"num_unique_values\": 71,\n        \"samples\": [\n          5.1,\n          7.2,\n          4.0\n        ],\n        \"semantic_type\": \"\",\n        \"description\": \"\"\n      }\n    },\n    {\n      \"column\": \"vote_count\",\n      \"properties\": {\n        \"dtype\": \"number\",\n        \"std\": 1234,\n        \"min\": 0,\n        \"max\": 13752,\n        \"num_unique_values\": 1609,\n        \"samples\": [\n          7604,\n          3428,\n          225\n        ],\n        \"semantic_type\": \"\",\n        \"description\": \"\"\n      }\n    }\n  ]\n}",
              "type": "dataframe",
              "variable_name": "df"
            },
            "text/html": [
              "\n",
              "  <div id=\"df-a2466520-1332-4043-b07e-c996005faedb\" class=\"colab-df-container\">\n",
              "    <div>\n",
              "<style scoped>\n",
              "    .dataframe tbody tr th:only-of-type {\n",
              "        vertical-align: middle;\n",
              "    }\n",
              "\n",
              "    .dataframe tbody tr th {\n",
              "        vertical-align: top;\n",
              "    }\n",
              "\n",
              "    .dataframe thead th {\n",
              "        text-align: right;\n",
              "    }\n",
              "</style>\n",
              "<table border=\"1\" class=\"dataframe\">\n",
              "  <thead>\n",
              "    <tr style=\"text-align: right;\">\n",
              "      <th></th>\n",
              "      <th>genres_1</th>\n",
              "      <th>genres_2</th>\n",
              "      <th>budget</th>\n",
              "      <th>keyword_1</th>\n",
              "      <th>keyword_2</th>\n",
              "      <th>keyword_3</th>\n",
              "      <th>keyword_4</th>\n",
              "      <th>keyword_5</th>\n",
              "      <th>keyword_6</th>\n",
              "      <th>popularity</th>\n",
              "      <th>production_companies</th>\n",
              "      <th>revenue</th>\n",
              "      <th>runtime</th>\n",
              "      <th>title</th>\n",
              "      <th>vote_average</th>\n",
              "      <th>vote_count</th>\n",
              "    </tr>\n",
              "  </thead>\n",
              "  <tbody>\n",
              "    <tr>\n",
              "      <th>0</th>\n",
              "      <td>Action</td>\n",
              "      <td>Adventure</td>\n",
              "      <td>237000000</td>\n",
              "      <td>cultureclash</td>\n",
              "      <td>future</td>\n",
              "      <td>spacewar</td>\n",
              "      <td>spacecolony</td>\n",
              "      <td>society</td>\n",
              "      <td>spacetravel</td>\n",
              "      <td>150.437577</td>\n",
              "      <td>Ingenious Film Partners</td>\n",
              "      <td>2787965087</td>\n",
              "      <td>162.0</td>\n",
              "      <td>Avatar</td>\n",
              "      <td>7.2</td>\n",
              "      <td>11800</td>\n",
              "    </tr>\n",
              "    <tr>\n",
              "      <th>1</th>\n",
              "      <td>Adventure</td>\n",
              "      <td>Fantasy</td>\n",
              "      <td>300000000</td>\n",
              "      <td>ocean</td>\n",
              "      <td>drugabuse</td>\n",
              "      <td>exoticisland</td>\n",
              "      <td>eastindiatradingcompany</td>\n",
              "      <td>loveofone'slife</td>\n",
              "      <td>traitor</td>\n",
              "      <td>139.082615</td>\n",
              "      <td>Walt Disney Pictures</td>\n",
              "      <td>961000000</td>\n",
              "      <td>169.0</td>\n",
              "      <td>Pirates of the Caribbean: At World's End</td>\n",
              "      <td>6.9</td>\n",
              "      <td>4500</td>\n",
              "    </tr>\n",
              "    <tr>\n",
              "      <th>2</th>\n",
              "      <td>Action</td>\n",
              "      <td>Adventure</td>\n",
              "      <td>245000000</td>\n",
              "      <td>spy</td>\n",
              "      <td>basedonnovel</td>\n",
              "      <td>secretagent</td>\n",
              "      <td>sequel</td>\n",
              "      <td>mi6</td>\n",
              "      <td>britishsecretservice</td>\n",
              "      <td>107.376788</td>\n",
              "      <td>Columbia Pictures</td>\n",
              "      <td>880674609</td>\n",
              "      <td>148.0</td>\n",
              "      <td>Spectre</td>\n",
              "      <td>6.3</td>\n",
              "      <td>4466</td>\n",
              "    </tr>\n",
              "    <tr>\n",
              "      <th>3</th>\n",
              "      <td>Action</td>\n",
              "      <td>Crime</td>\n",
              "      <td>250000000</td>\n",
              "      <td>dccomics</td>\n",
              "      <td>crimefighter</td>\n",
              "      <td>terrorist</td>\n",
              "      <td>secretidentity</td>\n",
              "      <td>burglar</td>\n",
              "      <td>hostagedrama</td>\n",
              "      <td>112.312950</td>\n",
              "      <td>Legendary Pictures</td>\n",
              "      <td>1084939099</td>\n",
              "      <td>165.0</td>\n",
              "      <td>The Dark Knight Rises</td>\n",
              "      <td>7.6</td>\n",
              "      <td>9106</td>\n",
              "    </tr>\n",
              "    <tr>\n",
              "      <th>4</th>\n",
              "      <td>Action</td>\n",
              "      <td>Adventure</td>\n",
              "      <td>260000000</td>\n",
              "      <td>basedonnovel</td>\n",
              "      <td>mars</td>\n",
              "      <td>medallion</td>\n",
              "      <td>spacetravel</td>\n",
              "      <td>princess</td>\n",
              "      <td>alien</td>\n",
              "      <td>43.926995</td>\n",
              "      <td>Walt Disney Pictures</td>\n",
              "      <td>284139100</td>\n",
              "      <td>132.0</td>\n",
              "      <td>John Carter</td>\n",
              "      <td>6.1</td>\n",
              "      <td>2124</td>\n",
              "    </tr>\n",
              "  </tbody>\n",
              "</table>\n",
              "</div>\n",
              "    <div class=\"colab-df-buttons\">\n",
              "\n",
              "  <div class=\"colab-df-container\">\n",
              "    <button class=\"colab-df-convert\" onclick=\"convertToInteractive('df-a2466520-1332-4043-b07e-c996005faedb')\"\n",
              "            title=\"Convert this dataframe to an interactive table.\"\n",
              "            style=\"display:none;\">\n",
              "\n",
              "  <svg xmlns=\"http://www.w3.org/2000/svg\" height=\"24px\" viewBox=\"0 -960 960 960\">\n",
              "    <path d=\"M120-120v-720h720v720H120Zm60-500h600v-160H180v160Zm220 220h160v-160H400v160Zm0 220h160v-160H400v160ZM180-400h160v-160H180v160Zm440 0h160v-160H620v160ZM180-180h160v-160H180v160Zm440 0h160v-160H620v160Z\"/>\n",
              "  </svg>\n",
              "    </button>\n",
              "\n",
              "  <style>\n",
              "    .colab-df-container {\n",
              "      display:flex;\n",
              "      gap: 12px;\n",
              "    }\n",
              "\n",
              "    .colab-df-convert {\n",
              "      background-color: #E8F0FE;\n",
              "      border: none;\n",
              "      border-radius: 50%;\n",
              "      cursor: pointer;\n",
              "      display: none;\n",
              "      fill: #1967D2;\n",
              "      height: 32px;\n",
              "      padding: 0 0 0 0;\n",
              "      width: 32px;\n",
              "    }\n",
              "\n",
              "    .colab-df-convert:hover {\n",
              "      background-color: #E2EBFA;\n",
              "      box-shadow: 0px 1px 2px rgba(60, 64, 67, 0.3), 0px 1px 3px 1px rgba(60, 64, 67, 0.15);\n",
              "      fill: #174EA6;\n",
              "    }\n",
              "\n",
              "    .colab-df-buttons div {\n",
              "      margin-bottom: 4px;\n",
              "    }\n",
              "\n",
              "    [theme=dark] .colab-df-convert {\n",
              "      background-color: #3B4455;\n",
              "      fill: #D2E3FC;\n",
              "    }\n",
              "\n",
              "    [theme=dark] .colab-df-convert:hover {\n",
              "      background-color: #434B5C;\n",
              "      box-shadow: 0px 1px 3px 1px rgba(0, 0, 0, 0.15);\n",
              "      filter: drop-shadow(0px 1px 2px rgba(0, 0, 0, 0.3));\n",
              "      fill: #FFFFFF;\n",
              "    }\n",
              "  </style>\n",
              "\n",
              "    <script>\n",
              "      const buttonEl =\n",
              "        document.querySelector('#df-a2466520-1332-4043-b07e-c996005faedb button.colab-df-convert');\n",
              "      buttonEl.style.display =\n",
              "        google.colab.kernel.accessAllowed ? 'block' : 'none';\n",
              "\n",
              "      async function convertToInteractive(key) {\n",
              "        const element = document.querySelector('#df-a2466520-1332-4043-b07e-c996005faedb');\n",
              "        const dataTable =\n",
              "          await google.colab.kernel.invokeFunction('convertToInteractive',\n",
              "                                                    [key], {});\n",
              "        if (!dataTable) return;\n",
              "\n",
              "        const docLinkHtml = 'Like what you see? Visit the ' +\n",
              "          '<a target=\"_blank\" href=https://colab.research.google.com/notebooks/data_table.ipynb>data table notebook</a>'\n",
              "          + ' to learn more about interactive tables.';\n",
              "        element.innerHTML = '';\n",
              "        dataTable['output_type'] = 'display_data';\n",
              "        await google.colab.output.renderOutput(dataTable, element);\n",
              "        const docLink = document.createElement('div');\n",
              "        docLink.innerHTML = docLinkHtml;\n",
              "        element.appendChild(docLink);\n",
              "      }\n",
              "    </script>\n",
              "  </div>\n",
              "\n",
              "\n",
              "    <div id=\"df-a0804a9f-5469-4378-8d8b-f438e234bb3e\">\n",
              "      <button class=\"colab-df-quickchart\" onclick=\"quickchart('df-a0804a9f-5469-4378-8d8b-f438e234bb3e')\"\n",
              "                title=\"Suggest charts\"\n",
              "                style=\"display:none;\">\n",
              "\n",
              "<svg xmlns=\"http://www.w3.org/2000/svg\" height=\"24px\"viewBox=\"0 0 24 24\"\n",
              "     width=\"24px\">\n",
              "    <g>\n",
              "        <path d=\"M19 3H5c-1.1 0-2 .9-2 2v14c0 1.1.9 2 2 2h14c1.1 0 2-.9 2-2V5c0-1.1-.9-2-2-2zM9 17H7v-7h2v7zm4 0h-2V7h2v10zm4 0h-2v-4h2v4z\"/>\n",
              "    </g>\n",
              "</svg>\n",
              "      </button>\n",
              "\n",
              "<style>\n",
              "  .colab-df-quickchart {\n",
              "      --bg-color: #E8F0FE;\n",
              "      --fill-color: #1967D2;\n",
              "      --hover-bg-color: #E2EBFA;\n",
              "      --hover-fill-color: #174EA6;\n",
              "      --disabled-fill-color: #AAA;\n",
              "      --disabled-bg-color: #DDD;\n",
              "  }\n",
              "\n",
              "  [theme=dark] .colab-df-quickchart {\n",
              "      --bg-color: #3B4455;\n",
              "      --fill-color: #D2E3FC;\n",
              "      --hover-bg-color: #434B5C;\n",
              "      --hover-fill-color: #FFFFFF;\n",
              "      --disabled-bg-color: #3B4455;\n",
              "      --disabled-fill-color: #666;\n",
              "  }\n",
              "\n",
              "  .colab-df-quickchart {\n",
              "    background-color: var(--bg-color);\n",
              "    border: none;\n",
              "    border-radius: 50%;\n",
              "    cursor: pointer;\n",
              "    display: none;\n",
              "    fill: var(--fill-color);\n",
              "    height: 32px;\n",
              "    padding: 0;\n",
              "    width: 32px;\n",
              "  }\n",
              "\n",
              "  .colab-df-quickchart:hover {\n",
              "    background-color: var(--hover-bg-color);\n",
              "    box-shadow: 0 1px 2px rgba(60, 64, 67, 0.3), 0 1px 3px 1px rgba(60, 64, 67, 0.15);\n",
              "    fill: var(--button-hover-fill-color);\n",
              "  }\n",
              "\n",
              "  .colab-df-quickchart-complete:disabled,\n",
              "  .colab-df-quickchart-complete:disabled:hover {\n",
              "    background-color: var(--disabled-bg-color);\n",
              "    fill: var(--disabled-fill-color);\n",
              "    box-shadow: none;\n",
              "  }\n",
              "\n",
              "  .colab-df-spinner {\n",
              "    border: 2px solid var(--fill-color);\n",
              "    border-color: transparent;\n",
              "    border-bottom-color: var(--fill-color);\n",
              "    animation:\n",
              "      spin 1s steps(1) infinite;\n",
              "  }\n",
              "\n",
              "  @keyframes spin {\n",
              "    0% {\n",
              "      border-color: transparent;\n",
              "      border-bottom-color: var(--fill-color);\n",
              "      border-left-color: var(--fill-color);\n",
              "    }\n",
              "    20% {\n",
              "      border-color: transparent;\n",
              "      border-left-color: var(--fill-color);\n",
              "      border-top-color: var(--fill-color);\n",
              "    }\n",
              "    30% {\n",
              "      border-color: transparent;\n",
              "      border-left-color: var(--fill-color);\n",
              "      border-top-color: var(--fill-color);\n",
              "      border-right-color: var(--fill-color);\n",
              "    }\n",
              "    40% {\n",
              "      border-color: transparent;\n",
              "      border-right-color: var(--fill-color);\n",
              "      border-top-color: var(--fill-color);\n",
              "    }\n",
              "    60% {\n",
              "      border-color: transparent;\n",
              "      border-right-color: var(--fill-color);\n",
              "    }\n",
              "    80% {\n",
              "      border-color: transparent;\n",
              "      border-right-color: var(--fill-color);\n",
              "      border-bottom-color: var(--fill-color);\n",
              "    }\n",
              "    90% {\n",
              "      border-color: transparent;\n",
              "      border-bottom-color: var(--fill-color);\n",
              "    }\n",
              "  }\n",
              "</style>\n",
              "\n",
              "      <script>\n",
              "        async function quickchart(key) {\n",
              "          const quickchartButtonEl =\n",
              "            document.querySelector('#' + key + ' button');\n",
              "          quickchartButtonEl.disabled = true;  // To prevent multiple clicks.\n",
              "          quickchartButtonEl.classList.add('colab-df-spinner');\n",
              "          try {\n",
              "            const charts = await google.colab.kernel.invokeFunction(\n",
              "                'suggestCharts', [key], {});\n",
              "          } catch (error) {\n",
              "            console.error('Error during call to suggestCharts:', error);\n",
              "          }\n",
              "          quickchartButtonEl.classList.remove('colab-df-spinner');\n",
              "          quickchartButtonEl.classList.add('colab-df-quickchart-complete');\n",
              "        }\n",
              "        (() => {\n",
              "          let quickchartButtonEl =\n",
              "            document.querySelector('#df-a0804a9f-5469-4378-8d8b-f438e234bb3e button');\n",
              "          quickchartButtonEl.style.display =\n",
              "            google.colab.kernel.accessAllowed ? 'block' : 'none';\n",
              "        })();\n",
              "      </script>\n",
              "    </div>\n",
              "\n",
              "    </div>\n",
              "  </div>\n"
            ],
            "text/plain": [
              "    genres_1   genres_2     budget     keyword_1     keyword_2     keyword_3  \\\n",
              "0     Action  Adventure  237000000  cultureclash        future      spacewar   \n",
              "1  Adventure    Fantasy  300000000         ocean     drugabuse  exoticisland   \n",
              "2     Action  Adventure  245000000           spy  basedonnovel   secretagent   \n",
              "3     Action      Crime  250000000      dccomics  crimefighter     terrorist   \n",
              "4     Action  Adventure  260000000  basedonnovel          mars     medallion   \n",
              "\n",
              "                 keyword_4        keyword_5             keyword_6  popularity  \\\n",
              "0              spacecolony          society           spacetravel  150.437577   \n",
              "1  eastindiatradingcompany  loveofone'slife               traitor  139.082615   \n",
              "2                   sequel              mi6  britishsecretservice  107.376788   \n",
              "3           secretidentity          burglar          hostagedrama  112.312950   \n",
              "4              spacetravel         princess                 alien   43.926995   \n",
              "\n",
              "      production_companies     revenue  runtime  \\\n",
              "0  Ingenious Film Partners  2787965087    162.0   \n",
              "1     Walt Disney Pictures   961000000    169.0   \n",
              "2        Columbia Pictures   880674609    148.0   \n",
              "3       Legendary Pictures  1084939099    165.0   \n",
              "4     Walt Disney Pictures   284139100    132.0   \n",
              "\n",
              "                                      title  vote_average  vote_count  \n",
              "0                                    Avatar           7.2       11800  \n",
              "1  Pirates of the Caribbean: At World's End           6.9        4500  \n",
              "2                                   Spectre           6.3        4466  \n",
              "3                     The Dark Knight Rises           7.6        9106  \n",
              "4                               John Carter           6.1        2124  "
            ]
          },
          "execution_count": 98,
          "metadata": {},
          "output_type": "execute_result"
        }
      ],
      "source": [
        "df = pd.read_csv('/content/drive/MyDrive/tmdb_5000_movies_cleaned.csv')\n",
        "df.head()\n"
      ]
    },
    {
      "cell_type": "code",
      "execution_count": null,
      "metadata": {
        "colab": {
          "base_uri": "https://localhost:8080/"
        },
        "id": "rPbU2IZmAdMB",
        "outputId": "38b8baa1-891d-4bf4-9e2a-3d87ba1e0c6f"
      },
      "outputs": [
        {
          "name": "stdout",
          "output_type": "stream",
          "text": [
            "genres_1                  28\n",
            "genres_2                 928\n",
            "budget                     0\n",
            "keyword_1                412\n",
            "keyword_2                700\n",
            "keyword_3                983\n",
            "keyword_4               1327\n",
            "keyword_5               1714\n",
            "keyword_6               2171\n",
            "popularity                 0\n",
            "production_companies     355\n",
            "revenue                    0\n",
            "runtime                    2\n",
            "title                      0\n",
            "vote_average               0\n",
            "vote_count                 0\n",
            "dtype: int64\n",
            "total samples: 4803\n"
          ]
        }
      ],
      "source": [
        "#Summing up the number of missing rows in each column feature\n",
        "print(df.isna().sum())\n",
        "print(\"total samples:\", len(df))"
      ]
    },
    {
      "cell_type": "code",
      "execution_count": null,
      "metadata": {
        "id": "WpY4wUZt78m4"
      },
      "outputs": [],
      "source": [
        "\n",
        "\n",
        "fill_values = {\n",
        "    'genres_1': 'Unknown', 'genres_2': 'Unknown',\n",
        "    'budget': 0, 'keyword_1': 'Unknown', 'keyword_2': 'Unknown', 'keyword_3': 'Unknown',\n",
        "    'keyword_4': 'Unknown', 'keyword_5': 'Unknown', 'keyword_6': 'Unknown',\n",
        "    'popularity': 0, 'production_companies': 'Unknown', 'revenue': 0,\n",
        "    'runtime': 0, 'vote_average': 0, 'vote_count': 0, 'title': 'Unknown'\n",
        "}\n",
        "df.fillna(fill_values, inplace=True)\n"
      ]
    },
    {
      "cell_type": "code",
      "execution_count": null,
      "metadata": {
        "id": "kl0v9npKB1jF"
      },
      "outputs": [],
      "source": [
        "# Target Column\n",
        "df['target'] = df['genres_1']\n",
        "df.drop(['genres_1'], axis=1, inplace=True)"
      ]
    },
    {
      "cell_type": "code",
      "execution_count": null,
      "metadata": {
        "colab": {
          "base_uri": "https://localhost:8080/",
          "height": 1000
        },
        "id": "AU1t95gY-ezj",
        "outputId": "29633da0-8344-42b4-c198-05e063df6248"
      },
      "outputs": [
        {
          "name": "stdout",
          "output_type": "stream",
          "text": [
            "Class Distribution:\n",
            "target\n",
            "Drama              1207\n",
            "Comedy             1042\n",
            "Action              754\n",
            "Adventure           339\n",
            "Horror              300\n",
            "Crime               195\n",
            "Thriller            194\n",
            "Animation           123\n",
            "Fantasy             117\n",
            "Romance             106\n",
            "Science Fiction      96\n",
            "Documentary          89\n",
            "Family               56\n",
            "Mystery              41\n",
            "Music                34\n",
            "Unknown              28\n",
            "Western              27\n",
            "History              25\n",
            "War                  24\n",
            "TV Movie              4\n",
            "Foreign               2\n",
            "Name: count, dtype: int64\n"
          ]
        },
        {
          "data": {
            "image/png": "[encoded data removed]",
            "text/plain": [
              "<Figure size 1200x600 with 1 Axes>"
            ]
          },
          "metadata": {},
          "output_type": "display_data"
        }
      ],
      "source": [
        "class_distribution = df['target'].value_counts()\n",
        "small_classes = class_distribution[class_distribution < 200].index\n",
        "df_filtered = df[~df['target'].isin(small_classes)].reset_index(drop=True)\n",
        "\n",
        "# -------------------------------\n",
        "# Plot class distribution after filtering\n",
        "# -------------------------------\n",
        "filtered_distribution = df_filtered['target'].value_counts()\n",
        "print(\"Class Distribution:\")\n",
        "print(class_distribution)\n",
        "plt.figure(figsize=(12, 6))\n",
        "plt.bar(filtered_distribution.index, filtered_distribution.values, color='skyblue')\n",
        "plt.xlabel('Genres')\n",
        "plt.ylabel('Number of Samples')\n",
        "plt.title('Class Distribution of Genres (Filtered)')\n",
        "plt.xticks(rotation=45)  # rotate labels for readability\n",
        "plt.show()"
      ]
    },
    {
      "cell_type": "code",
      "execution_count": null,
      "metadata": {
        "id": "RycoSL28QcqP"
      },
      "outputs": [],
      "source": []
    },
    {
      "cell_type": "code",
      "execution_count": null,
      "metadata": {
        "id": "X0YXPdQbBBJW"
      },
      "outputs": [],
      "source": [
        "# Encode categorical columns\n",
        "df_encoded = df_filtered.copy()\n",
        "label_encoder = LabelEncoder()\n",
        "for col in df_encoded.select_dtypes(include=['object']).columns:\n",
        "    if col != 'target':\n",
        "        df_encoded[col] = label_encoder.fit_transform(df_encoded[col])\n"
      ]
    },
    {
      "cell_type": "code",
      "execution_count": null,
      "metadata": {
        "id": "jtGBba5rUHLj"
      },
      "outputs": [],
      "source": [
        "# Encode target column\n",
        "target_encoder = LabelEncoder()\n",
        "df_encoded['target'] = target_encoder.fit_transform(df_encoded['target'])"
      ]
    },
    {
      "cell_type": "code",
      "execution_count": null,
      "metadata": {
        "id": "MJBCkkp0BHgG"
      },
      "outputs": [],
      "source": [
        "# Scale features\n",
        "X = df_encoded.drop('target', axis=1)  # X must be a DataFrame\n",
        "y = df_encoded['target']\n",
        "\n",
        "# Scale features\n",
        "scaler = MinMaxScaler()\n",
        "X_scaled = scaler.fit_transform(X)\n",
        "df_scaled = pd.DataFrame(X_scaled, columns=X.columns)  # X.columns exists because X is a DataFrame\n",
        "df_scaled['target'] = y.values"
      ]
    },
    {
      "cell_type": "code",
      "execution_count": null,
      "metadata": {
        "id": "q2MtlMFGBUSo"
      },
      "outputs": [],
      "source": [
        "# Split data for train/dev/test\n",
        "data = df_scaled.values\n",
        "total_samples = len(data)\n",
        "train = data[:int(total_samples*0.7)]\n",
        "dev = data[int(total_samples*0.7):int(total_samples*0.85)]\n",
        "test = data[int(total_samples*0.85):]\n",
        "def get_features_and_labels(data):\n",
        "    features = data[:, :-1]\n",
        "    labels = data[:, -1]\n",
        "    return features, labels\n",
        "\n",
        "train_x, train_y = get_features_and_labels(train)\n",
        "dev_x, dev_y = get_features_and_labels(dev)\n",
        "test_x, test_y = get_features_and_labels(test)"
      ]
    },
    {
      "cell_type": "code",
      "execution_count": null,
      "metadata": {
        "colab": {
          "base_uri": "https://localhost:8080/"
        },
        "id": "HYecAJ3pCXXT",
        "outputId": "5344041a-2e87-4701-9b0c-5589042bf2a9"
      },
      "outputs": [
        {
          "name": "stdout",
          "output_type": "stream",
          "text": [
            "Development Set Accuracy: 0.43772893772893773\n"
          ]
        }
      ],
      "source": [
        "# KNN using scikit-learn\n",
        "# Initialize KNN\n",
        "knn = KNeighborsClassifier(n_neighbors=5, metric='manhattan')\n",
        "knn.fit(train_x, train_y)\n",
        "\n",
        "# Predict on dev set\n",
        "pred_labels_dev = knn.predict(dev_x)\n",
        "accuracy_dev = accuracy_score(dev_y, pred_labels_dev)\n",
        "print(\"Development Set Accuracy:\", accuracy_dev)"
      ]
    },
    {
      "cell_type": "code",
      "execution_count": null,
      "metadata": {
        "id": "JhQpuXu0Cfku"
      },
      "outputs": [],
      "source": [
        "# Find optimal K\n",
        "k_list = list(range(1, 102, 4))\n",
        "performance = []\n",
        "for k in k_list:\n",
        "    knn = KNeighborsClassifier(n_neighbors=k, metric='manhattan')\n",
        "    knn.fit(train_x, train_y)\n",
        "    pred_labels = knn.predict(dev_x)\n",
        "    performance.append(accuracy_score(dev_y, pred_labels))"
      ]
    },
    {
      "cell_type": "code",
      "execution_count": null,
      "metadata": {
        "colab": {
          "base_uri": "https://localhost:8080/",
          "height": 504
        },
        "id": "S1YPz41mCi83",
        "outputId": "e5893410-e30a-4422-8eb2-cf0b60dfaa9c"
      },
      "outputs": [
        {
          "data": {
            "image/png": "[encoded data removed]",
            "text/plain": [
              "<Figure size 1000x500 with 1 Axes>"
            ]
          },
          "metadata": {},
          "output_type": "display_data"
        },
        {
          "name": "stdout",
          "output_type": "stream",
          "text": [
            "Optimal K: 81\n"
          ]
        }
      ],
      "source": [
        "# Predict and Evaluate on Dev Set\n",
        "plt.figure(figsize=(10,5))\n",
        "plt.plot(k_list, performance, marker='s')\n",
        "plt.xlabel('k - value')\n",
        "plt.ylabel('Accuracy')\n",
        "plt.title('Development Set Performance for different K')\n",
        "plt.show()\n",
        "\n",
        "optimal_k = k_list[np.argmax(performance)]\n",
        "print(\"Optimal K:\", optimal_k)\n",
        "\n"
      ]
    },
    {
      "cell_type": "code",
      "execution_count": null,
      "metadata": {
        "colab": {
          "base_uri": "https://localhost:8080/"
        },
        "id": "m7VBzOjLCyIS",
        "outputId": "849a7557-37e1-49bb-e030-dcbc4b74d530"
      },
      "outputs": [
        {
          "name": "stdout",
          "output_type": "stream",
          "text": [
            "Test Set Accuracy: 0.4076782449725777\n",
            "MAE: 0.8976234003656307\n",
            "MSE: 1.6691042047531992\n"
          ]
        }
      ],
      "source": [
        "# Test set evaluation with optimal K\n",
        "knn = KNeighborsClassifier(n_neighbors=optimal_k, metric='manhattan')\n",
        "knn.fit(train_x, train_y)\n",
        "pred_labels_test = knn.predict(test_x)\n",
        "accuracy_test = accuracy_score(test_y, pred_labels_test)\n",
        "mae = mean_absolute_error(test_y, pred_labels_test)\n",
        "mse = mean_squared_error(test_y, pred_labels_test)\n",
        "\n",
        "print(\"Test Set Accuracy:\", accuracy_test)\n",
        "print(\"MAE:\", mae)\n",
        "print(\"MSE:\", mse)\n"
      ]
    },
    {
      "cell_type": "code",
      "execution_count": null,
      "metadata": {
        "colab": {
          "base_uri": "https://localhost:8080/"
        },
        "id": "CNqi4295C22t",
        "outputId": "32290191-9a59-4b2f-dc1c-8c6d5647b76d"
      },
      "outputs": [
        {
          "name": "stdout",
          "output_type": "stream",
          "text": [
            "Logistic Regression Accuracy: 0.3497942386831276\n",
            "Weighted Avg Recall: 0.3497942386831276\n",
            "Weighted Avg F1 Score: 0.18129579443942587\n"
          ]
        },
        {
          "name": "stderr",
          "output_type": "stream",
          "text": [
            "/usr/local/lib/python3.12/dist-packages/sklearn/linear_model/_logistic.py:1247: FutureWarning: 'multi_class' was deprecated in version 1.5 and will be removed in 1.7. From then on, it will always use 'multinomial'. Leave it to its default value to avoid this warning.\n",
            "  warnings.warn(\n"
          ]
        }
      ],
      "source": [
        "# Multi-class Logistic Regression\n",
        "train_x_lr, test_x_lr, train_y_lr, test_y_lr = train_test_split(X_scaled, y, test_size=0.2, random_state=42)\n",
        "model_lr = LogisticRegression(multi_class='multinomial', max_iter=2000, C=0.001)\n",
        "model_lr.fit(train_x_lr, train_y_lr)\n",
        "y_pred_lr = model_lr.predict(test_x_lr)\n",
        "\n",
        "accuracy_lr = accuracy_score(test_y_lr, y_pred_lr)\n",
        "recall_lr = classification_report(test_y_lr, y_pred_lr, output_dict=True, zero_division=1)['weighted avg']['recall']\n",
        "f1_lr = classification_report(test_y_lr, y_pred_lr, output_dict=True, zero_division=1)['weighted avg']['f1-score']\n",
        "\n",
        "print(\"Logistic Regression Accuracy:\", accuracy_lr)\n",
        "print(\"Weighted Avg Recall:\", recall_lr)\n",
        "print(\"Weighted Avg F1 Score:\", f1_lr)"
      ]
    }
  ],
  "metadata": {
    "colab": {
      "provenance": []
    },
    "kernelspec": {
      "display_name": "Python 3",
      "name": "python3"
    },
    "language_info": {
      "name": "python"
    }
  },
  "nbformat": 4,
  "nbformat_minor": 0
}
